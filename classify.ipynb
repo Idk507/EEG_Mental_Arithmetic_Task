{
 "cells": [
  {
   "cell_type": "code",
   "execution_count": 10,
   "metadata": {},
   "outputs": [],
   "source": [
    "import pyedflib\n",
    "import numpy as np\n",
    "import pickle\n",
    "from pandas import read_csv\n",
    "from sklearn.tree import DecisionTreeClassifier\n",
    "from sklearn import metrics\n",
    "from sklearn.metrics import classification_report, confusion_matrix, accuracy_score\n"
   ]
  },
  {
   "cell_type": "code",
   "execution_count": 4,
   "metadata": {},
   "outputs": [],
   "source": [
    "def get_data():\n",
    "    root_path = 'data/'\n",
    "    train_df = read_csv(f'{root_path}training_set.csv')\n",
    "    test_df = read_csv(f'{root_path}test_set.csv')\n",
    "\n",
    "    train_dataset = train_df.values\n",
    "    test_dataset = test_df.values\n",
    "\n",
    "    X_train = train_dataset[:, 0:21].astype(float)\n",
    "    Y_train = train_dataset[:, 21].astype('int32')\n",
    "\n",
    "    X_test = test_dataset[:, 0:21].astype(float)\n",
    "    Y_test = test_dataset[:, 21].astype('int32')\n",
    "\n",
    "    return (X_train, Y_train, X_test, Y_test)"
   ]
  },
  {
   "cell_type": "code",
   "execution_count": 5,
   "metadata": {},
   "outputs": [],
   "source": [
    "X_train, Y_train, X_test, Y_test = get_data()"
   ]
  },
  {
   "cell_type": "code",
   "execution_count": null,
   "metadata": {},
   "outputs": [],
   "source": [
    "\n",
    "clf = DecisionTreeClassifier(max_depth=30)\n",
    "clf.fit(X_train, Y_train)\n",
    "pickle.dump(clf, open('decision_tree.sav', 'wb'))"
   ]
  },
  {
   "cell_type": "code",
   "execution_count": 12,
   "metadata": {},
   "outputs": [],
   "source": [
    "\n",
    "def evaluate_classifier(X_test, Y_test):\n",
    "    model = pickle.load(open('decision_tree.sav', 'rb'))\n",
    "    Y_pred = model.predict(X_test)\n",
    "    print(\"Accuracy:\",metrics.accuracy_score(Y_test, Y_pred))\n",
    "    print(confusion_matrix(Y_test, Y_pred))\n",
    "    print(classification_report(Y_test, Y_pred))\n",
    "    print(accuracy_score(Y_test, Y_pred))"
   ]
  },
  {
   "cell_type": "code",
   "execution_count": 13,
   "metadata": {},
   "outputs": [
    {
     "name": "stdout",
     "output_type": "stream",
     "text": [
      "Accuracy: 0.7964465191332412\n",
      "[[595204  49196]\n",
      " [127407  95793]]\n",
      "              precision    recall  f1-score   support\n",
      "\n",
      "           0       0.82      0.92      0.87    644400\n",
      "           1       0.66      0.43      0.52    223200\n",
      "\n",
      "    accuracy                           0.80    867600\n",
      "   macro avg       0.74      0.68      0.70    867600\n",
      "weighted avg       0.78      0.80      0.78    867600\n",
      "\n",
      "0.7964465191332412\n"
     ]
    }
   ],
   "source": [
    "evaluate_classifier(X_test, Y_test)"
   ]
  },
  {
   "cell_type": "code",
   "execution_count": null,
   "metadata": {},
   "outputs": [],
   "source": []
  }
 ],
 "metadata": {
  "kernelspec": {
   "display_name": "idk_gpu",
   "language": "python",
   "name": "python3"
  },
  "language_info": {
   "codemirror_mode": {
    "name": "ipython",
    "version": 3
   },
   "file_extension": ".py",
   "mimetype": "text/x-python",
   "name": "python",
   "nbconvert_exporter": "python",
   "pygments_lexer": "ipython3",
   "version": "3.10.14"
  }
 },
 "nbformat": 4,
 "nbformat_minor": 2
}
