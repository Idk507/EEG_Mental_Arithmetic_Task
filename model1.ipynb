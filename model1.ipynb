{
 "cells": [
  {
   "cell_type": "code",
   "execution_count": 1,
   "metadata": {},
   "outputs": [],
   "source": [
    "import tensorflow as tf\n",
    "from pandas import read_csv\n",
    "from tensorflow import keras\n",
    "from tensorflow.keras import layers"
   ]
  },
  {
   "cell_type": "code",
   "execution_count": 2,
   "metadata": {},
   "outputs": [],
   "source": [
    "class NeuralNet(keras.Model):\n",
    "\n",
    "    def __init__(self):\n",
    "        super(NeuralNet, self).__init__()\n",
    "        self.hidden_layer = layers.Dense(11, activation='relu')\n",
    "        self.output_layer = layers.Dense(1, activation='sigmoid')\n",
    "\n",
    "        self.train_X = None\n",
    "        self.train_Y = None\n",
    "        self.test_X = None\n",
    "        self.test_Y = None\n",
    "        self.val_X = None\n",
    "        self.val_Y = None\n",
    "\n",
    "    def call(self, inputs):\n",
    "        assert inputs.dtype == tf.float32\n",
    "        x = self.hidden_layer(inputs)\n",
    "        return self.output_layer(x)\n",
    "\n",
    "    def neuralnet_compile(self):\n",
    "        self.compile(optimizer=keras.optimizers.Adam(),\n",
    "                     loss=keras.losses.BinaryCrossentropy(),\n",
    "                     metrics=['accuracy'])\n",
    "\n",
    "    def neuralnet_fit(self, train_dataset, test_dataset):\n",
    "        self.train_X = train_dataset[:, 0:21]\n",
    "        self.train_Y = train_dataset[:, 21]\n",
    "\n",
    "        self.test_X = test_dataset[:, 0:21]\n",
    "        self.test_Y = test_dataset[:, 21]\n",
    "\n",
    "        self.val_X = self.train_X[-10000:]\n",
    "        self.val_Y = self.train_Y[-10000:]\n",
    "        self.train_X = self.train_X[:-10000]\n",
    "        self.train_Y = self.train_Y[:-10000]\n",
    "\n",
    "        train_X = self.train_X\n",
    "        train_Y = self.train_Y\n",
    "\n",
    "        self.fit(x=train_X,\n",
    "                 y=train_Y,\n",
    "                 batch_size=64,\n",
    "                 epochs=100,\n",
    "                 validation_data=(self.val_X, self.val_Y))\n",
    "\n",
    "    def neuralnet_evaluate(self):\n",
    "        results = self.evaluate(self.test_X, self.test_Y, batch_size=128)\n",
    "        print('Test loss, Test accuracy:', results)\n"
   ]
  },
  {
   "cell_type": "code",
   "execution_count": 3,
   "metadata": {},
   "outputs": [],
   "source": [
    "\n",
    "root_path = 'data/'\n",
    "train_df = read_csv(f'{root_path}training_set.csv')\n",
    "test_df = read_csv(f'{root_path}test_set.csv')\n",
    "\n",
    "train_dataset = train_df.values\n",
    "test_dataset = test_df.values\n"
   ]
  },
  {
   "cell_type": "code",
   "execution_count": 6,
   "metadata": {},
   "outputs": [],
   "source": [
    "train_dataset, test_dataset \n"
   ]
  },
  {
   "cell_type": "code",
   "execution_count": 7,
   "metadata": {},
   "outputs": [],
   "source": [
    "model = NeuralNet()"
   ]
  },
  {
   "cell_type": "code",
   "execution_count": 10,
   "metadata": {},
   "outputs": [
    {
     "data": {
      "text/html": [
       "<pre style=\"white-space:pre;overflow-x:auto;line-height:normal;font-family:Menlo,'DejaVu Sans Mono',consolas,'Courier New',monospace\"><span style=\"font-weight: bold\">Model: \"neural_net\"</span>\n",
       "</pre>\n"
      ],
      "text/plain": [
       "\u001b[1mModel: \"neural_net\"\u001b[0m\n"
      ]
     },
     "metadata": {},
     "output_type": "display_data"
    },
    {
     "data": {
      "text/html": [
       "<pre style=\"white-space:pre;overflow-x:auto;line-height:normal;font-family:Menlo,'DejaVu Sans Mono',consolas,'Courier New',monospace\">┏━━━━━━━━━━━━━━━━━━━━━━━━━━━━━━━━━┳━━━━━━━━━━━━━━━━━━━━━━━━┳━━━━━━━━━━━━━━━┓\n",
       "┃<span style=\"font-weight: bold\"> Layer (type)                    </span>┃<span style=\"font-weight: bold\"> Output Shape           </span>┃<span style=\"font-weight: bold\">       Param # </span>┃\n",
       "┡━━━━━━━━━━━━━━━━━━━━━━━━━━━━━━━━━╇━━━━━━━━━━━━━━━━━━━━━━━━╇━━━━━━━━━━━━━━━┩\n",
       "│ dense (<span style=\"color: #0087ff; text-decoration-color: #0087ff\">Dense</span>)                   │ ?                      │   <span style=\"color: #00af00; text-decoration-color: #00af00\">0</span> (unbuilt) │\n",
       "├─────────────────────────────────┼────────────────────────┼───────────────┤\n",
       "│ dense_1 (<span style=\"color: #0087ff; text-decoration-color: #0087ff\">Dense</span>)                 │ ?                      │   <span style=\"color: #00af00; text-decoration-color: #00af00\">0</span> (unbuilt) │\n",
       "└─────────────────────────────────┴────────────────────────┴───────────────┘\n",
       "</pre>\n"
      ],
      "text/plain": [
       "┏━━━━━━━━━━━━━━━━━━━━━━━━━━━━━━━━━┳━━━━━━━━━━━━━━━━━━━━━━━━┳━━━━━━━━━━━━━━━┓\n",
       "┃\u001b[1m \u001b[0m\u001b[1mLayer (type)                   \u001b[0m\u001b[1m \u001b[0m┃\u001b[1m \u001b[0m\u001b[1mOutput Shape          \u001b[0m\u001b[1m \u001b[0m┃\u001b[1m \u001b[0m\u001b[1m      Param #\u001b[0m\u001b[1m \u001b[0m┃\n",
       "┡━━━━━━━━━━━━━━━━━━━━━━━━━━━━━━━━━╇━━━━━━━━━━━━━━━━━━━━━━━━╇━━━━━━━━━━━━━━━┩\n",
       "│ dense (\u001b[38;5;33mDense\u001b[0m)                   │ ?                      │   \u001b[38;5;34m0\u001b[0m (unbuilt) │\n",
       "├─────────────────────────────────┼────────────────────────┼───────────────┤\n",
       "│ dense_1 (\u001b[38;5;33mDense\u001b[0m)                 │ ?                      │   \u001b[38;5;34m0\u001b[0m (unbuilt) │\n",
       "└─────────────────────────────────┴────────────────────────┴───────────────┘\n"
      ]
     },
     "metadata": {},
     "output_type": "display_data"
    },
    {
     "data": {
      "text/html": [
       "<pre style=\"white-space:pre;overflow-x:auto;line-height:normal;font-family:Menlo,'DejaVu Sans Mono',consolas,'Courier New',monospace\"><span style=\"font-weight: bold\"> Total params: </span><span style=\"color: #00af00; text-decoration-color: #00af00\">0</span> (0.00 B)\n",
       "</pre>\n"
      ],
      "text/plain": [
       "\u001b[1m Total params: \u001b[0m\u001b[38;5;34m0\u001b[0m (0.00 B)\n"
      ]
     },
     "metadata": {},
     "output_type": "display_data"
    },
    {
     "data": {
      "text/html": [
       "<pre style=\"white-space:pre;overflow-x:auto;line-height:normal;font-family:Menlo,'DejaVu Sans Mono',consolas,'Courier New',monospace\"><span style=\"font-weight: bold\"> Trainable params: </span><span style=\"color: #00af00; text-decoration-color: #00af00\">0</span> (0.00 B)\n",
       "</pre>\n"
      ],
      "text/plain": [
       "\u001b[1m Trainable params: \u001b[0m\u001b[38;5;34m0\u001b[0m (0.00 B)\n"
      ]
     },
     "metadata": {},
     "output_type": "display_data"
    },
    {
     "data": {
      "text/html": [
       "<pre style=\"white-space:pre;overflow-x:auto;line-height:normal;font-family:Menlo,'DejaVu Sans Mono',consolas,'Courier New',monospace\"><span style=\"font-weight: bold\"> Non-trainable params: </span><span style=\"color: #00af00; text-decoration-color: #00af00\">0</span> (0.00 B)\n",
       "</pre>\n"
      ],
      "text/plain": [
       "\u001b[1m Non-trainable params: \u001b[0m\u001b[38;5;34m0\u001b[0m (0.00 B)\n"
      ]
     },
     "metadata": {},
     "output_type": "display_data"
    }
   ],
   "source": [
    "model.summary()"
   ]
  },
  {
   "cell_type": "code",
   "execution_count": 8,
   "metadata": {},
   "outputs": [],
   "source": [
    "model.neuralnet_compile()"
   ]
  },
  {
   "cell_type": "code",
   "execution_count": 11,
   "metadata": {},
   "outputs": [
    {
     "name": "stdout",
     "output_type": "stream",
     "text": [
      "Epoch 1/100\n",
      "\u001b[1m54069/54069\u001b[0m \u001b[32m━━━━━━━━━━━━━━━━━━━━\u001b[0m\u001b[37m\u001b[0m \u001b[1m72s\u001b[0m 1ms/step - accuracy: 0.7350 - loss: 0.5930 - val_accuracy: 0.0305 - val_loss: 1.3461\n",
      "Epoch 2/100\n",
      "\u001b[1m54069/54069\u001b[0m \u001b[32m━━━━━━━━━━━━━━━━━━━━\u001b[0m\u001b[37m\u001b[0m \u001b[1m79s\u001b[0m 1ms/step - accuracy: 0.7488 - loss: 0.5362 - val_accuracy: 0.0254 - val_loss: 1.3304\n",
      "Epoch 3/100\n",
      "\u001b[1m54069/54069\u001b[0m \u001b[32m━━━━━━━━━━━━━━━━━━━━\u001b[0m\u001b[37m\u001b[0m \u001b[1m85s\u001b[0m 2ms/step - accuracy: 0.7503 - loss: 0.5339 - val_accuracy: 0.0300 - val_loss: 1.3180\n",
      "Epoch 4/100\n",
      "\u001b[1m54069/54069\u001b[0m \u001b[32m━━━━━━━━━━━━━━━━━━━━\u001b[0m\u001b[37m\u001b[0m \u001b[1m103s\u001b[0m 2ms/step - accuracy: 0.7497 - loss: 0.5343 - val_accuracy: 0.0369 - val_loss: 1.3120\n",
      "Epoch 5/100\n",
      "\u001b[1m54069/54069\u001b[0m \u001b[32m━━━━━━━━━━━━━━━━━━━━\u001b[0m\u001b[37m\u001b[0m \u001b[1m98s\u001b[0m 2ms/step - accuracy: 0.7502 - loss: 0.5337 - val_accuracy: 0.0263 - val_loss: 1.3210\n",
      "Epoch 6/100\n",
      "\u001b[1m54069/54069\u001b[0m \u001b[32m━━━━━━━━━━━━━━━━━━━━\u001b[0m\u001b[37m\u001b[0m \u001b[1m73s\u001b[0m 1ms/step - accuracy: 0.7503 - loss: 0.5337 - val_accuracy: 0.0436 - val_loss: 1.2733\n",
      "Epoch 7/100\n",
      "\u001b[1m54069/54069\u001b[0m \u001b[32m━━━━━━━━━━━━━━━━━━━━\u001b[0m\u001b[37m\u001b[0m \u001b[1m74s\u001b[0m 1ms/step - accuracy: 0.7503 - loss: 0.5338 - val_accuracy: 0.0240 - val_loss: 1.3100\n",
      "Epoch 8/100\n",
      "\u001b[1m54069/54069\u001b[0m \u001b[32m━━━━━━━━━━━━━━━━━━━━\u001b[0m\u001b[37m\u001b[0m \u001b[1m73s\u001b[0m 1ms/step - accuracy: 0.7503 - loss: 0.5338 - val_accuracy: 0.0356 - val_loss: 1.3337\n",
      "Epoch 9/100\n",
      "\u001b[1m54069/54069\u001b[0m \u001b[32m━━━━━━━━━━━━━━━━━━━━\u001b[0m\u001b[37m\u001b[0m \u001b[1m66s\u001b[0m 1ms/step - accuracy: 0.7504 - loss: 0.5337 - val_accuracy: 0.0305 - val_loss: 1.3097\n",
      "Epoch 10/100\n",
      "\u001b[1m54069/54069\u001b[0m \u001b[32m━━━━━━━━━━━━━━━━━━━━\u001b[0m\u001b[37m\u001b[0m \u001b[1m79s\u001b[0m 1ms/step - accuracy: 0.7501 - loss: 0.5339 - val_accuracy: 0.0460 - val_loss: 1.2925\n",
      "Epoch 11/100\n",
      "\u001b[1m54069/54069\u001b[0m \u001b[32m━━━━━━━━━━━━━━━━━━━━\u001b[0m\u001b[37m\u001b[0m \u001b[1m67s\u001b[0m 1ms/step - accuracy: 0.7501 - loss: 0.5341 - val_accuracy: 0.0485 - val_loss: 1.2750\n",
      "Epoch 12/100\n",
      "\u001b[1m54069/54069\u001b[0m \u001b[32m━━━━━━━━━━━━━━━━━━━━\u001b[0m\u001b[37m\u001b[0m \u001b[1m71s\u001b[0m 1ms/step - accuracy: 0.7505 - loss: 0.5334 - val_accuracy: 0.0296 - val_loss: 1.3152\n",
      "Epoch 13/100\n",
      "\u001b[1m54069/54069\u001b[0m \u001b[32m━━━━━━━━━━━━━━━━━━━━\u001b[0m\u001b[37m\u001b[0m \u001b[1m66s\u001b[0m 1ms/step - accuracy: 0.7503 - loss: 0.5341 - val_accuracy: 0.0243 - val_loss: 1.3555\n",
      "Epoch 14/100\n",
      "\u001b[1m54069/54069\u001b[0m \u001b[32m━━━━━━━━━━━━━━━━━━━━\u001b[0m\u001b[37m\u001b[0m \u001b[1m67s\u001b[0m 1ms/step - accuracy: 0.7502 - loss: 0.5339 - val_accuracy: 0.0268 - val_loss: 1.3128\n",
      "Epoch 15/100\n",
      "\u001b[1m54069/54069\u001b[0m \u001b[32m━━━━━━━━━━━━━━━━━━━━\u001b[0m\u001b[37m\u001b[0m \u001b[1m65s\u001b[0m 1ms/step - accuracy: 0.7503 - loss: 0.5337 - val_accuracy: 0.0289 - val_loss: 1.3277\n",
      "Epoch 16/100\n",
      "\u001b[1m54069/54069\u001b[0m \u001b[32m━━━━━━━━━━━━━━━━━━━━\u001b[0m\u001b[37m\u001b[0m \u001b[1m67s\u001b[0m 1ms/step - accuracy: 0.7501 - loss: 0.5340 - val_accuracy: 0.0354 - val_loss: 1.3089\n",
      "Epoch 17/100\n",
      "\u001b[1m54069/54069\u001b[0m \u001b[32m━━━━━━━━━━━━━━━━━━━━\u001b[0m\u001b[37m\u001b[0m \u001b[1m68s\u001b[0m 1ms/step - accuracy: 0.7502 - loss: 0.5339 - val_accuracy: 0.0480 - val_loss: 1.2299\n",
      "Epoch 18/100\n",
      "\u001b[1m54069/54069\u001b[0m \u001b[32m━━━━━━━━━━━━━━━━━━━━\u001b[0m\u001b[37m\u001b[0m \u001b[1m64s\u001b[0m 1ms/step - accuracy: 0.7503 - loss: 0.5338 - val_accuracy: 0.0184 - val_loss: 1.3757\n",
      "Epoch 19/100\n",
      "\u001b[1m54069/54069\u001b[0m \u001b[32m━━━━━━━━━━━━━━━━━━━━\u001b[0m\u001b[37m\u001b[0m \u001b[1m65s\u001b[0m 1ms/step - accuracy: 0.7501 - loss: 0.5342 - val_accuracy: 0.0270 - val_loss: 1.3202\n",
      "Epoch 20/100\n",
      "\u001b[1m54069/54069\u001b[0m \u001b[32m━━━━━━━━━━━━━━━━━━━━\u001b[0m\u001b[37m\u001b[0m \u001b[1m69s\u001b[0m 1ms/step - accuracy: 0.7501 - loss: 0.5339 - val_accuracy: 0.0389 - val_loss: 1.2810\n",
      "Epoch 21/100\n",
      "\u001b[1m54069/54069\u001b[0m \u001b[32m━━━━━━━━━━━━━━━━━━━━\u001b[0m\u001b[37m\u001b[0m \u001b[1m68s\u001b[0m 1ms/step - accuracy: 0.7504 - loss: 0.5337 - val_accuracy: 0.0312 - val_loss: 1.3261\n",
      "Epoch 22/100\n",
      "\u001b[1m54069/54069\u001b[0m \u001b[32m━━━━━━━━━━━━━━━━━━━━\u001b[0m\u001b[37m\u001b[0m \u001b[1m65s\u001b[0m 1ms/step - accuracy: 0.7504 - loss: 0.5336 - val_accuracy: 0.0222 - val_loss: 1.3726\n",
      "Epoch 23/100\n",
      "\u001b[1m54069/54069\u001b[0m \u001b[32m━━━━━━━━━━━━━━━━━━━━\u001b[0m\u001b[37m\u001b[0m \u001b[1m63s\u001b[0m 1ms/step - accuracy: 0.7504 - loss: 0.5338 - val_accuracy: 0.0292 - val_loss: 1.3304\n",
      "Epoch 24/100\n",
      "\u001b[1m54069/54069\u001b[0m \u001b[32m━━━━━━━━━━━━━━━━━━━━\u001b[0m\u001b[37m\u001b[0m \u001b[1m62s\u001b[0m 1ms/step - accuracy: 0.7503 - loss: 0.5339 - val_accuracy: 0.0448 - val_loss: 1.2639\n",
      "Epoch 25/100\n",
      "\u001b[1m54069/54069\u001b[0m \u001b[32m━━━━━━━━━━━━━━━━━━━━\u001b[0m\u001b[37m\u001b[0m \u001b[1m64s\u001b[0m 1ms/step - accuracy: 0.7505 - loss: 0.5333 - val_accuracy: 0.0457 - val_loss: 1.2676\n",
      "Epoch 26/100\n",
      "\u001b[1m54069/54069\u001b[0m \u001b[32m━━━━━━━━━━━━━━━━━━━━\u001b[0m\u001b[37m\u001b[0m \u001b[1m65s\u001b[0m 1ms/step - accuracy: 0.7502 - loss: 0.5337 - val_accuracy: 0.0340 - val_loss: 1.2970\n",
      "Epoch 27/100\n",
      "\u001b[1m54069/54069\u001b[0m \u001b[32m━━━━━━━━━━━━━━━━━━━━\u001b[0m\u001b[37m\u001b[0m \u001b[1m62s\u001b[0m 1ms/step - accuracy: 0.7505 - loss: 0.5336 - val_accuracy: 0.0287 - val_loss: 1.3458\n",
      "Epoch 28/100\n",
      "\u001b[1m54069/54069\u001b[0m \u001b[32m━━━━━━━━━━━━━━━━━━━━\u001b[0m\u001b[37m\u001b[0m \u001b[1m59s\u001b[0m 1ms/step - accuracy: 0.7498 - loss: 0.5343 - val_accuracy: 0.0326 - val_loss: 1.3254\n",
      "Epoch 29/100\n",
      "\u001b[1m54069/54069\u001b[0m \u001b[32m━━━━━━━━━━━━━━━━━━━━\u001b[0m\u001b[37m\u001b[0m \u001b[1m56s\u001b[0m 1ms/step - accuracy: 0.7500 - loss: 0.5341 - val_accuracy: 0.0519 - val_loss: 1.2613\n",
      "Epoch 30/100\n",
      "\u001b[1m54069/54069\u001b[0m \u001b[32m━━━━━━━━━━━━━━━━━━━━\u001b[0m\u001b[37m\u001b[0m \u001b[1m59s\u001b[0m 1ms/step - accuracy: 0.7502 - loss: 0.5340 - val_accuracy: 0.0408 - val_loss: 1.2937\n",
      "Epoch 31/100\n",
      "\u001b[1m54069/54069\u001b[0m \u001b[32m━━━━━━━━━━━━━━━━━━━━\u001b[0m\u001b[37m\u001b[0m \u001b[1m59s\u001b[0m 1ms/step - accuracy: 0.7502 - loss: 0.5340 - val_accuracy: 0.0268 - val_loss: 1.3318\n",
      "Epoch 32/100\n",
      "\u001b[1m54069/54069\u001b[0m \u001b[32m━━━━━━━━━━━━━━━━━━━━\u001b[0m\u001b[37m\u001b[0m \u001b[1m59s\u001b[0m 1ms/step - accuracy: 0.7501 - loss: 0.5337 - val_accuracy: 0.0218 - val_loss: 1.3655\n",
      "Epoch 33/100\n",
      "\u001b[1m54069/54069\u001b[0m \u001b[32m━━━━━━━━━━━━━━━━━━━━\u001b[0m\u001b[37m\u001b[0m \u001b[1m54s\u001b[0m 1ms/step - accuracy: 0.7502 - loss: 0.5339 - val_accuracy: 0.0362 - val_loss: 1.2960\n",
      "Epoch 34/100\n",
      "\u001b[1m54069/54069\u001b[0m \u001b[32m━━━━━━━━━━━━━━━━━━━━\u001b[0m\u001b[37m\u001b[0m \u001b[1m66s\u001b[0m 1ms/step - accuracy: 0.7501 - loss: 0.5339 - val_accuracy: 0.0580 - val_loss: 1.2375\n",
      "Epoch 35/100\n",
      "\u001b[1m54069/54069\u001b[0m \u001b[32m━━━━━━━━━━━━━━━━━━━━\u001b[0m\u001b[37m\u001b[0m \u001b[1m65s\u001b[0m 1ms/step - accuracy: 0.7502 - loss: 0.5339 - val_accuracy: 0.0549 - val_loss: 1.2623\n",
      "Epoch 36/100\n",
      "\u001b[1m54069/54069\u001b[0m \u001b[32m━━━━━━━━━━━━━━━━━━━━\u001b[0m\u001b[37m\u001b[0m \u001b[1m64s\u001b[0m 1ms/step - accuracy: 0.7505 - loss: 0.5333 - val_accuracy: 0.0467 - val_loss: 1.2746\n",
      "Epoch 37/100\n",
      "\u001b[1m54069/54069\u001b[0m \u001b[32m━━━━━━━━━━━━━━━━━━━━\u001b[0m\u001b[37m\u001b[0m \u001b[1m65s\u001b[0m 1ms/step - accuracy: 0.7501 - loss: 0.5339 - val_accuracy: 0.0194 - val_loss: 1.3649\n",
      "Epoch 38/100\n",
      "\u001b[1m54069/54069\u001b[0m \u001b[32m━━━━━━━━━━━━━━━━━━━━\u001b[0m\u001b[37m\u001b[0m \u001b[1m70s\u001b[0m 1ms/step - accuracy: 0.7500 - loss: 0.5342 - val_accuracy: 0.0300 - val_loss: 1.3471\n",
      "Epoch 39/100\n",
      "\u001b[1m54069/54069\u001b[0m \u001b[32m━━━━━━━━━━━━━━━━━━━━\u001b[0m\u001b[37m\u001b[0m \u001b[1m65s\u001b[0m 1ms/step - accuracy: 0.7502 - loss: 0.5338 - val_accuracy: 0.0259 - val_loss: 1.3470\n",
      "Epoch 40/100\n",
      "\u001b[1m54069/54069\u001b[0m \u001b[32m━━━━━━━━━━━━━━━━━━━━\u001b[0m\u001b[37m\u001b[0m \u001b[1m67s\u001b[0m 1ms/step - accuracy: 0.7501 - loss: 0.5338 - val_accuracy: 0.0358 - val_loss: 1.3181\n",
      "Epoch 41/100\n",
      "\u001b[1m54069/54069\u001b[0m \u001b[32m━━━━━━━━━━━━━━━━━━━━\u001b[0m\u001b[37m\u001b[0m \u001b[1m66s\u001b[0m 1ms/step - accuracy: 0.7502 - loss: 0.5340 - val_accuracy: 0.0475 - val_loss: 1.2605\n",
      "Epoch 42/100\n",
      "\u001b[1m54069/54069\u001b[0m \u001b[32m━━━━━━━━━━━━━━━━━━━━\u001b[0m\u001b[37m\u001b[0m \u001b[1m65s\u001b[0m 1ms/step - accuracy: 0.7503 - loss: 0.5336 - val_accuracy: 0.0427 - val_loss: 1.2677\n",
      "Epoch 43/100\n",
      "\u001b[1m54069/54069\u001b[0m \u001b[32m━━━━━━━━━━━━━━━━━━━━\u001b[0m\u001b[37m\u001b[0m \u001b[1m64s\u001b[0m 1ms/step - accuracy: 0.7504 - loss: 0.5338 - val_accuracy: 0.0228 - val_loss: 1.3700\n",
      "Epoch 44/100\n",
      "\u001b[1m54069/54069\u001b[0m \u001b[32m━━━━━━━━━━━━━━━━━━━━\u001b[0m\u001b[37m\u001b[0m \u001b[1m64s\u001b[0m 1ms/step - accuracy: 0.7498 - loss: 0.5339 - val_accuracy: 0.0240 - val_loss: 1.3332\n",
      "Epoch 45/100\n",
      "\u001b[1m54069/54069\u001b[0m \u001b[32m━━━━━━━━━━━━━━━━━━━━\u001b[0m\u001b[37m\u001b[0m \u001b[1m63s\u001b[0m 1ms/step - accuracy: 0.7499 - loss: 0.5340 - val_accuracy: 0.0344 - val_loss: 1.3033\n",
      "Epoch 46/100\n",
      "\u001b[1m54069/54069\u001b[0m \u001b[32m━━━━━━━━━━━━━━━━━━━━\u001b[0m\u001b[37m\u001b[0m \u001b[1m55s\u001b[0m 1ms/step - accuracy: 0.7504 - loss: 0.5337 - val_accuracy: 0.0377 - val_loss: 1.2951\n",
      "Epoch 47/100\n",
      "\u001b[1m54069/54069\u001b[0m \u001b[32m━━━━━━━━━━━━━━━━━━━━\u001b[0m\u001b[37m\u001b[0m \u001b[1m57s\u001b[0m 1ms/step - accuracy: 0.7500 - loss: 0.5341 - val_accuracy: 0.0416 - val_loss: 1.2838\n",
      "Epoch 48/100\n",
      "\u001b[1m54069/54069\u001b[0m \u001b[32m━━━━━━━━━━━━━━━━━━━━\u001b[0m\u001b[37m\u001b[0m \u001b[1m67s\u001b[0m 1ms/step - accuracy: 0.7501 - loss: 0.5339 - val_accuracy: 0.0510 - val_loss: 1.2386\n",
      "Epoch 49/100\n",
      "\u001b[1m54069/54069\u001b[0m \u001b[32m━━━━━━━━━━━━━━━━━━━━\u001b[0m\u001b[37m\u001b[0m \u001b[1m68s\u001b[0m 1ms/step - accuracy: 0.7504 - loss: 0.5337 - val_accuracy: 0.0212 - val_loss: 1.3189\n",
      "Epoch 50/100\n",
      "\u001b[1m54069/54069\u001b[0m \u001b[32m━━━━━━━━━━━━━━━━━━━━\u001b[0m\u001b[37m\u001b[0m \u001b[1m68s\u001b[0m 1ms/step - accuracy: 0.7504 - loss: 0.5335 - val_accuracy: 0.0303 - val_loss: 1.3074\n",
      "Epoch 51/100\n",
      "\u001b[1m54069/54069\u001b[0m \u001b[32m━━━━━━━━━━━━━━━━━━━━\u001b[0m\u001b[37m\u001b[0m \u001b[1m54s\u001b[0m 987us/step - accuracy: 0.7500 - loss: 0.5342 - val_accuracy: 0.0275 - val_loss: 1.3057\n",
      "Epoch 52/100\n",
      "\u001b[1m54069/54069\u001b[0m \u001b[32m━━━━━━━━━━━━━━━━━━━━\u001b[0m\u001b[37m\u001b[0m \u001b[1m52s\u001b[0m 957us/step - accuracy: 0.7503 - loss: 0.5339 - val_accuracy: 0.0523 - val_loss: 1.2260\n",
      "Epoch 53/100\n",
      "\u001b[1m54069/54069\u001b[0m \u001b[32m━━━━━━━━━━━━━━━━━━━━\u001b[0m\u001b[37m\u001b[0m \u001b[1m51s\u001b[0m 943us/step - accuracy: 0.7500 - loss: 0.5341 - val_accuracy: 0.0283 - val_loss: 1.3482\n",
      "Epoch 54/100\n",
      "\u001b[1m54069/54069\u001b[0m \u001b[32m━━━━━━━━━━━━━━━━━━━━\u001b[0m\u001b[37m\u001b[0m \u001b[1m54s\u001b[0m 990us/step - accuracy: 0.7505 - loss: 0.5336 - val_accuracy: 0.0223 - val_loss: 1.3642\n",
      "Epoch 55/100\n",
      "\u001b[1m54069/54069\u001b[0m \u001b[32m━━━━━━━━━━━━━━━━━━━━\u001b[0m\u001b[37m\u001b[0m \u001b[1m56s\u001b[0m 1ms/step - accuracy: 0.7500 - loss: 0.5339 - val_accuracy: 0.0131 - val_loss: 1.3987\n",
      "Epoch 56/100\n",
      "\u001b[1m54069/54069\u001b[0m \u001b[32m━━━━━━━━━━━━━━━━━━━━\u001b[0m\u001b[37m\u001b[0m \u001b[1m53s\u001b[0m 985us/step - accuracy: 0.7502 - loss: 0.5336 - val_accuracy: 0.0399 - val_loss: 1.2799\n",
      "Epoch 57/100\n",
      "\u001b[1m54069/54069\u001b[0m \u001b[32m━━━━━━━━━━━━━━━━━━━━\u001b[0m\u001b[37m\u001b[0m \u001b[1m52s\u001b[0m 962us/step - accuracy: 0.7495 - loss: 0.5347 - val_accuracy: 0.0223 - val_loss: 1.3559\n",
      "Epoch 58/100\n",
      "\u001b[1m54069/54069\u001b[0m \u001b[32m━━━━━━━━━━━━━━━━━━━━\u001b[0m\u001b[37m\u001b[0m \u001b[1m53s\u001b[0m 983us/step - accuracy: 0.7504 - loss: 0.5336 - val_accuracy: 0.0185 - val_loss: 1.3646\n",
      "Epoch 59/100\n",
      "\u001b[1m54069/54069\u001b[0m \u001b[32m━━━━━━━━━━━━━━━━━━━━\u001b[0m\u001b[37m\u001b[0m \u001b[1m51s\u001b[0m 948us/step - accuracy: 0.7504 - loss: 0.5337 - val_accuracy: 0.0232 - val_loss: 1.3660\n",
      "Epoch 60/100\n",
      "\u001b[1m54069/54069\u001b[0m \u001b[32m━━━━━━━━━━━━━━━━━━━━\u001b[0m\u001b[37m\u001b[0m \u001b[1m52s\u001b[0m 955us/step - accuracy: 0.7502 - loss: 0.5338 - val_accuracy: 0.0382 - val_loss: 1.3043\n",
      "Epoch 61/100\n",
      "\u001b[1m54069/54069\u001b[0m \u001b[32m━━━━━━━━━━━━━━━━━━━━\u001b[0m\u001b[37m\u001b[0m \u001b[1m52s\u001b[0m 952us/step - accuracy: 0.7498 - loss: 0.5342 - val_accuracy: 0.0314 - val_loss: 1.3088\n",
      "Epoch 62/100\n",
      "\u001b[1m54069/54069\u001b[0m \u001b[32m━━━━━━━━━━━━━━━━━━━━\u001b[0m\u001b[37m\u001b[0m \u001b[1m105s\u001b[0m 2ms/step - accuracy: 0.7503 - loss: 0.5337 - val_accuracy: 0.0339 - val_loss: 1.3189\n",
      "Epoch 63/100\n",
      "\u001b[1m54069/54069\u001b[0m \u001b[32m━━━━━━━━━━━━━━━━━━━━\u001b[0m\u001b[37m\u001b[0m \u001b[1m52s\u001b[0m 959us/step - accuracy: 0.7503 - loss: 0.5336 - val_accuracy: 0.0281 - val_loss: 1.3366\n",
      "Epoch 64/100\n",
      "\u001b[1m54069/54069\u001b[0m \u001b[32m━━━━━━━━━━━━━━━━━━━━\u001b[0m\u001b[37m\u001b[0m \u001b[1m50s\u001b[0m 913us/step - accuracy: 0.7506 - loss: 0.5334 - val_accuracy: 0.0366 - val_loss: 1.3010\n",
      "Epoch 65/100\n",
      "\u001b[1m54069/54069\u001b[0m \u001b[32m━━━━━━━━━━━━━━━━━━━━\u001b[0m\u001b[37m\u001b[0m \u001b[1m49s\u001b[0m 905us/step - accuracy: 0.7503 - loss: 0.5339 - val_accuracy: 0.0410 - val_loss: 1.2705\n",
      "Epoch 66/100\n",
      "\u001b[1m54069/54069\u001b[0m \u001b[32m━━━━━━━━━━━━━━━━━━━━\u001b[0m\u001b[37m\u001b[0m \u001b[1m51s\u001b[0m 932us/step - accuracy: 0.7503 - loss: 0.5338 - val_accuracy: 0.0474 - val_loss: 1.2758\n",
      "Epoch 67/100\n",
      "\u001b[1m54069/54069\u001b[0m \u001b[32m━━━━━━━━━━━━━━━━━━━━\u001b[0m\u001b[37m\u001b[0m \u001b[1m48s\u001b[0m 885us/step - accuracy: 0.7501 - loss: 0.5341 - val_accuracy: 0.0530 - val_loss: 1.2632\n",
      "Epoch 68/100\n",
      "\u001b[1m54069/54069\u001b[0m \u001b[32m━━━━━━━━━━━━━━━━━━━━\u001b[0m\u001b[37m\u001b[0m \u001b[1m48s\u001b[0m 891us/step - accuracy: 0.7506 - loss: 0.5334 - val_accuracy: 0.0369 - val_loss: 1.3116\n",
      "Epoch 69/100\n",
      "\u001b[1m54069/54069\u001b[0m \u001b[32m━━━━━━━━━━━━━━━━━━━━\u001b[0m\u001b[37m\u001b[0m \u001b[1m50s\u001b[0m 928us/step - accuracy: 0.7499 - loss: 0.5342 - val_accuracy: 0.0660 - val_loss: 1.2202\n",
      "Epoch 70/100\n",
      "\u001b[1m54069/54069\u001b[0m \u001b[32m━━━━━━━━━━━━━━━━━━━━\u001b[0m\u001b[37m\u001b[0m \u001b[1m49s\u001b[0m 911us/step - accuracy: 0.7502 - loss: 0.5340 - val_accuracy: 0.0342 - val_loss: 1.3204\n",
      "Epoch 71/100\n",
      "\u001b[1m54069/54069\u001b[0m \u001b[32m━━━━━━━━━━━━━━━━━━━━\u001b[0m\u001b[37m\u001b[0m \u001b[1m51s\u001b[0m 942us/step - accuracy: 0.7499 - loss: 0.5341 - val_accuracy: 0.0292 - val_loss: 1.3172\n",
      "Epoch 72/100\n",
      "\u001b[1m54069/54069\u001b[0m \u001b[32m━━━━━━━━━━━━━━━━━━━━\u001b[0m\u001b[37m\u001b[0m \u001b[1m50s\u001b[0m 916us/step - accuracy: 0.7500 - loss: 0.5341 - val_accuracy: 0.0630 - val_loss: 1.2327\n",
      "Epoch 73/100\n",
      "\u001b[1m54069/54069\u001b[0m \u001b[32m━━━━━━━━━━━━━━━━━━━━\u001b[0m\u001b[37m\u001b[0m \u001b[1m50s\u001b[0m 918us/step - accuracy: 0.7496 - loss: 0.5344 - val_accuracy: 0.0217 - val_loss: 1.3657\n",
      "Epoch 74/100\n",
      "\u001b[1m54069/54069\u001b[0m \u001b[32m━━━━━━━━━━━━━━━━━━━━\u001b[0m\u001b[37m\u001b[0m \u001b[1m49s\u001b[0m 910us/step - accuracy: 0.7500 - loss: 0.5341 - val_accuracy: 0.0238 - val_loss: 1.3875\n",
      "Epoch 75/100\n",
      "\u001b[1m54069/54069\u001b[0m \u001b[32m━━━━━━━━━━━━━━━━━━━━\u001b[0m\u001b[37m\u001b[0m \u001b[1m49s\u001b[0m 912us/step - accuracy: 0.7499 - loss: 0.5339 - val_accuracy: 0.0310 - val_loss: 1.2933\n",
      "Epoch 76/100\n",
      "\u001b[1m54069/54069\u001b[0m \u001b[32m━━━━━━━━━━━━━━━━━━━━\u001b[0m\u001b[37m\u001b[0m \u001b[1m49s\u001b[0m 905us/step - accuracy: 0.7502 - loss: 0.5335 - val_accuracy: 0.0301 - val_loss: 1.2972\n",
      "Epoch 77/100\n",
      "\u001b[1m54069/54069\u001b[0m \u001b[32m━━━━━━━━━━━━━━━━━━━━\u001b[0m\u001b[37m\u001b[0m \u001b[1m52s\u001b[0m 953us/step - accuracy: 0.7505 - loss: 0.5337 - val_accuracy: 0.0265 - val_loss: 1.3377\n",
      "Epoch 78/100\n",
      "\u001b[1m54069/54069\u001b[0m \u001b[32m━━━━━━━━━━━━━━━━━━━━\u001b[0m\u001b[37m\u001b[0m \u001b[1m51s\u001b[0m 936us/step - accuracy: 0.7500 - loss: 0.5340 - val_accuracy: 0.0194 - val_loss: 1.3566\n",
      "Epoch 79/100\n",
      "\u001b[1m54069/54069\u001b[0m \u001b[32m━━━━━━━━━━━━━━━━━━━━\u001b[0m\u001b[37m\u001b[0m \u001b[1m50s\u001b[0m 916us/step - accuracy: 0.7502 - loss: 0.5337 - val_accuracy: 0.0373 - val_loss: 1.2845\n",
      "Epoch 80/100\n",
      "\u001b[1m54069/54069\u001b[0m \u001b[32m━━━━━━━━━━━━━━━━━━━━\u001b[0m\u001b[37m\u001b[0m \u001b[1m51s\u001b[0m 946us/step - accuracy: 0.7497 - loss: 0.5342 - val_accuracy: 0.0488 - val_loss: 1.3133\n",
      "Epoch 81/100\n",
      "\u001b[1m54069/54069\u001b[0m \u001b[32m━━━━━━━━━━━━━━━━━━━━\u001b[0m\u001b[37m\u001b[0m \u001b[1m50s\u001b[0m 926us/step - accuracy: 0.7504 - loss: 0.5339 - val_accuracy: 0.0278 - val_loss: 1.3359\n",
      "Epoch 82/100\n",
      "\u001b[1m54069/54069\u001b[0m \u001b[32m━━━━━━━━━━━━━━━━━━━━\u001b[0m\u001b[37m\u001b[0m \u001b[1m50s\u001b[0m 924us/step - accuracy: 0.7501 - loss: 0.5343 - val_accuracy: 0.0224 - val_loss: 1.3427\n",
      "Epoch 83/100\n",
      "\u001b[1m54069/54069\u001b[0m \u001b[32m━━━━━━━━━━━━━━━━━━━━\u001b[0m\u001b[37m\u001b[0m \u001b[1m50s\u001b[0m 926us/step - accuracy: 0.7503 - loss: 0.5337 - val_accuracy: 0.0278 - val_loss: 1.3593\n",
      "Epoch 84/100\n",
      "\u001b[1m54069/54069\u001b[0m \u001b[32m━━━━━━━━━━━━━━━━━━━━\u001b[0m\u001b[37m\u001b[0m \u001b[1m50s\u001b[0m 925us/step - accuracy: 0.7501 - loss: 0.5339 - val_accuracy: 0.0286 - val_loss: 1.3070\n",
      "Epoch 85/100\n",
      "\u001b[1m54069/54069\u001b[0m \u001b[32m━━━━━━━━━━━━━━━━━━━━\u001b[0m\u001b[37m\u001b[0m \u001b[1m50s\u001b[0m 919us/step - accuracy: 0.7501 - loss: 0.5342 - val_accuracy: 0.0403 - val_loss: 1.3001\n",
      "Epoch 86/100\n",
      "\u001b[1m54069/54069\u001b[0m \u001b[32m━━━━━━━━━━━━━━━━━━━━\u001b[0m\u001b[37m\u001b[0m \u001b[1m49s\u001b[0m 907us/step - accuracy: 0.7503 - loss: 0.5337 - val_accuracy: 0.0361 - val_loss: 1.2997\n",
      "Epoch 87/100\n",
      "\u001b[1m54069/54069\u001b[0m \u001b[32m━━━━━━━━━━━━━━━━━━━━\u001b[0m\u001b[37m\u001b[0m \u001b[1m76s\u001b[0m 1ms/step - accuracy: 0.7507 - loss: 0.5335 - val_accuracy: 0.0396 - val_loss: 1.2793\n",
      "Epoch 88/100\n",
      "\u001b[1m54069/54069\u001b[0m \u001b[32m━━━━━━━━━━━━━━━━━━━━\u001b[0m\u001b[37m\u001b[0m \u001b[1m51s\u001b[0m 932us/step - accuracy: 0.7497 - loss: 0.5344 - val_accuracy: 0.0308 - val_loss: 1.3136\n",
      "Epoch 89/100\n",
      "\u001b[1m54069/54069\u001b[0m \u001b[32m━━━━━━━━━━━━━━━━━━━━\u001b[0m\u001b[37m\u001b[0m \u001b[1m50s\u001b[0m 927us/step - accuracy: 0.7501 - loss: 0.5340 - val_accuracy: 0.0230 - val_loss: 1.3545\n",
      "Epoch 90/100\n",
      "\u001b[1m54069/54069\u001b[0m \u001b[32m━━━━━━━━━━━━━━━━━━━━\u001b[0m\u001b[37m\u001b[0m \u001b[1m50s\u001b[0m 913us/step - accuracy: 0.7499 - loss: 0.5344 - val_accuracy: 0.0370 - val_loss: 1.2701\n",
      "Epoch 91/100\n",
      "\u001b[1m54069/54069\u001b[0m \u001b[32m━━━━━━━━━━━━━━━━━━━━\u001b[0m\u001b[37m\u001b[0m \u001b[1m49s\u001b[0m 901us/step - accuracy: 0.7503 - loss: 0.5336 - val_accuracy: 0.0409 - val_loss: 1.2799\n",
      "Epoch 92/100\n",
      "\u001b[1m54069/54069\u001b[0m \u001b[32m━━━━━━━━━━━━━━━━━━━━\u001b[0m\u001b[37m\u001b[0m \u001b[1m50s\u001b[0m 915us/step - accuracy: 0.7502 - loss: 0.5338 - val_accuracy: 0.0385 - val_loss: 1.2809\n",
      "Epoch 93/100\n",
      "\u001b[1m54069/54069\u001b[0m \u001b[32m━━━━━━━━━━━━━━━━━━━━\u001b[0m\u001b[37m\u001b[0m \u001b[1m50s\u001b[0m 923us/step - accuracy: 0.7501 - loss: 0.5336 - val_accuracy: 0.0433 - val_loss: 1.2816\n",
      "Epoch 94/100\n",
      "\u001b[1m54069/54069\u001b[0m \u001b[32m━━━━━━━━━━━━━━━━━━━━\u001b[0m\u001b[37m\u001b[0m \u001b[1m50s\u001b[0m 915us/step - accuracy: 0.7501 - loss: 0.5340 - val_accuracy: 0.0285 - val_loss: 1.3355\n",
      "Epoch 95/100\n",
      "\u001b[1m54069/54069\u001b[0m \u001b[32m━━━━━━━━━━━━━━━━━━━━\u001b[0m\u001b[37m\u001b[0m \u001b[1m50s\u001b[0m 927us/step - accuracy: 0.7496 - loss: 0.5346 - val_accuracy: 0.0412 - val_loss: 1.2992\n",
      "Epoch 96/100\n",
      "\u001b[1m54069/54069\u001b[0m \u001b[32m━━━━━━━━━━━━━━━━━━━━\u001b[0m\u001b[37m\u001b[0m \u001b[1m51s\u001b[0m 942us/step - accuracy: 0.7505 - loss: 0.5336 - val_accuracy: 0.0244 - val_loss: 1.3457\n",
      "Epoch 97/100\n",
      "\u001b[1m54069/54069\u001b[0m \u001b[32m━━━━━━━━━━━━━━━━━━━━\u001b[0m\u001b[37m\u001b[0m \u001b[1m51s\u001b[0m 931us/step - accuracy: 0.7500 - loss: 0.5339 - val_accuracy: 0.0412 - val_loss: 1.2836\n",
      "Epoch 98/100\n",
      "\u001b[1m54069/54069\u001b[0m \u001b[32m━━━━━━━━━━━━━━━━━━━━\u001b[0m\u001b[37m\u001b[0m \u001b[1m50s\u001b[0m 927us/step - accuracy: 0.7502 - loss: 0.5336 - val_accuracy: 0.0252 - val_loss: 1.3405\n",
      "Epoch 99/100\n",
      "\u001b[1m54069/54069\u001b[0m \u001b[32m━━━━━━━━━━━━━━━━━━━━\u001b[0m\u001b[37m\u001b[0m \u001b[1m52s\u001b[0m 960us/step - accuracy: 0.7498 - loss: 0.5343 - val_accuracy: 0.0280 - val_loss: 1.3546\n",
      "Epoch 100/100\n",
      "\u001b[1m54069/54069\u001b[0m \u001b[32m━━━━━━━━━━━━━━━━━━━━\u001b[0m\u001b[37m\u001b[0m \u001b[1m51s\u001b[0m 936us/step - accuracy: 0.7501 - loss: 0.5341 - val_accuracy: 0.0280 - val_loss: 1.3284\n"
     ]
    }
   ],
   "source": [
    "model.neuralnet_fit(train_dataset, test_dataset)"
   ]
  },
  {
   "cell_type": "code",
   "execution_count": 12,
   "metadata": {},
   "outputs": [
    {
     "name": "stdout",
     "output_type": "stream",
     "text": [
      "\u001b[1m6779/6779\u001b[0m \u001b[32m━━━━━━━━━━━━━━━━━━━━\u001b[0m\u001b[37m\u001b[0m \u001b[1m5s\u001b[0m 739us/step - accuracy: 0.7694 - loss: 0.5094\n",
      "Test loss, Test accuracy: [0.5361000299453735, 0.7478111982345581]\n"
     ]
    }
   ],
   "source": [
    "model.neuralnet_evaluate()"
   ]
  },
  {
   "cell_type": "code",
   "execution_count": 15,
   "metadata": {},
   "outputs": [
    {
     "name": "stdout",
     "output_type": "stream",
     "text": [
      "INFO:tensorflow:Assets written to: model1\\assets\n"
     ]
    },
    {
     "name": "stderr",
     "output_type": "stream",
     "text": [
      "INFO:tensorflow:Assets written to: model1\\assets\n"
     ]
    }
   ],
   "source": [
    "tf.saved_model.save(model,'model1')"
   ]
  },
  {
   "cell_type": "code",
   "execution_count": null,
   "metadata": {},
   "outputs": [],
   "source": []
  },
  {
   "cell_type": "code",
   "execution_count": null,
   "metadata": {},
   "outputs": [],
   "source": []
  }
 ],
 "metadata": {
  "kernelspec": {
   "display_name": "idk_gpu",
   "language": "python",
   "name": "python3"
  },
  "language_info": {
   "codemirror_mode": {
    "name": "ipython",
    "version": 3
   },
   "file_extension": ".py",
   "mimetype": "text/x-python",
   "name": "python",
   "nbconvert_exporter": "python",
   "pygments_lexer": "ipython3",
   "version": "3.10.14"
  }
 },
 "nbformat": 4,
 "nbformat_minor": 2
}
